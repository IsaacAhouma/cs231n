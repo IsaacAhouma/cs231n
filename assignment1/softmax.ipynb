{
 "cells": [
  {
   "cell_type": "markdown",
   "metadata": {},
   "source": [
    "# Softmax exercise\n",
    "\n",
    "*Complete and hand in this completed worksheet (including its outputs and any supporting code outside of the worksheet) with your assignment submission. For more details see the [assignments page](http://vision.stanford.edu/teaching/cs231n/assignments.html) on the course website.*\n",
    "\n",
    "This exercise is analogous to the SVM exercise. You will:\n",
    "\n",
    "- implement a fully-vectorized **loss function** for the Softmax classifier\n",
    "- implement the fully-vectorized expression for its **analytic gradient**\n",
    "- **check your implementation** with numerical gradient\n",
    "- use a validation set to **tune the learning rate and regularization** strength\n",
    "- **optimize** the loss function with **SGD**\n",
    "- **visualize** the final learned weights\n"
   ]
  },
  {
   "cell_type": "code",
   "execution_count": 30,
   "metadata": {
    "collapsed": false
   },
   "outputs": [
    {
     "name": "stdout",
     "output_type": "stream",
     "text": [
      "The autoreload extension is already loaded. To reload it, use:\n",
      "  %reload_ext autoreload\n"
     ]
    }
   ],
   "source": [
    "import random\n",
    "import numpy as np\n",
    "from cs231n.data_utils import load_CIFAR10\n",
    "import matplotlib.pyplot as plt\n",
    "\n",
    "from __future__ import print_function\n",
    "\n",
    "%matplotlib inline\n",
    "plt.rcParams['figure.figsize'] = (10.0, 8.0) # set default size of plots\n",
    "plt.rcParams['image.interpolation'] = 'nearest'\n",
    "plt.rcParams['image.cmap'] = 'gray'\n",
    "\n",
    "# for auto-reloading extenrnal modules\n",
    "# see http://stackoverflow.com/questions/1907993/autoreload-of-modules-in-ipython\n",
    "%load_ext autoreload\n",
    "%autoreload 2"
   ]
  },
  {
   "cell_type": "code",
   "execution_count": 31,
   "metadata": {
    "collapsed": false
   },
   "outputs": [
    {
     "name": "stdout",
     "output_type": "stream",
     "text": [
      "Train data shape:  (49000L, 3073L)\n",
      "Train labels shape:  (49000L,)\n",
      "Validation data shape:  (1000L, 3073L)\n",
      "Validation labels shape:  (1000L,)\n",
      "Test data shape:  (1000L, 3073L)\n",
      "Test labels shape:  (1000L,)\n",
      "dev data shape:  (500L, 3073L)\n",
      "dev labels shape:  (500L,)\n"
     ]
    }
   ],
   "source": [
    "def get_CIFAR10_data(num_training=49000, num_validation=1000, num_test=1000, num_dev=500):\n",
    "    \"\"\"\n",
    "    Load the CIFAR-10 dataset from disk and perform preprocessing to prepare\n",
    "    it for the linear classifier. These are the same steps as we used for the\n",
    "    SVM, but condensed to a single function.  \n",
    "    \"\"\"\n",
    "    # Load the raw CIFAR-10 data\n",
    "    cifar10_dir = 'cs231n/datasets/cifar-10-batches-py'\n",
    "    X_train, y_train, X_test, y_test = load_CIFAR10(cifar10_dir)\n",
    "    \n",
    "    # subsample the data\n",
    "    mask = list(range(num_training, num_training + num_validation))\n",
    "    X_val = X_train[mask]\n",
    "    y_val = y_train[mask]\n",
    "    mask = list(range(num_training))\n",
    "    X_train = X_train[mask]\n",
    "    y_train = y_train[mask]\n",
    "    mask = list(range(num_test))\n",
    "    X_test = X_test[mask]\n",
    "    y_test = y_test[mask]\n",
    "    mask = np.random.choice(num_training, num_dev, replace=False)\n",
    "    X_dev = X_train[mask]\n",
    "    y_dev = y_train[mask]\n",
    "    \n",
    "    # Preprocessing: reshape the image data into rows\n",
    "    X_train = np.reshape(X_train, (X_train.shape[0], -1))\n",
    "    X_val = np.reshape(X_val, (X_val.shape[0], -1))\n",
    "    X_test = np.reshape(X_test, (X_test.shape[0], -1))\n",
    "    X_dev = np.reshape(X_dev, (X_dev.shape[0], -1))\n",
    "    \n",
    "    # Normalize the data: subtract the mean image\n",
    "    mean_image = np.mean(X_train, axis = 0)\n",
    "    X_train -= mean_image\n",
    "    X_val -= mean_image\n",
    "    X_test -= mean_image\n",
    "    X_dev -= mean_image\n",
    "    \n",
    "    # add bias dimension and transform into columns\n",
    "    X_train = np.hstack([X_train, np.ones((X_train.shape[0], 1))])\n",
    "    X_val = np.hstack([X_val, np.ones((X_val.shape[0], 1))])\n",
    "    X_test = np.hstack([X_test, np.ones((X_test.shape[0], 1))])\n",
    "    X_dev = np.hstack([X_dev, np.ones((X_dev.shape[0], 1))])\n",
    "    \n",
    "    return X_train, y_train, X_val, y_val, X_test, y_test, X_dev, y_dev\n",
    "\n",
    "\n",
    "# Invoke the above function to get our data.\n",
    "X_train, y_train, X_val, y_val, X_test, y_test, X_dev, y_dev = get_CIFAR10_data()\n",
    "print('Train data shape: ', X_train.shape)\n",
    "print('Train labels shape: ', y_train.shape)\n",
    "print('Validation data shape: ', X_val.shape)\n",
    "print('Validation labels shape: ', y_val.shape)\n",
    "print('Test data shape: ', X_test.shape)\n",
    "print('Test labels shape: ', y_test.shape)\n",
    "print('dev data shape: ', X_dev.shape)\n",
    "print('dev labels shape: ', y_dev.shape)"
   ]
  },
  {
   "cell_type": "markdown",
   "metadata": {},
   "source": [
    "## Softmax Classifier\n",
    "\n",
    "Your code for this section will all be written inside **cs231n/classifiers/softmax.py**. \n"
   ]
  },
  {
   "cell_type": "code",
   "execution_count": 32,
   "metadata": {
    "collapsed": false
   },
   "outputs": [
    {
     "name": "stdout",
     "output_type": "stream",
     "text": [
      "loss: 2.304610\n",
      "sanity check: 2.302585\n"
     ]
    }
   ],
   "source": [
    "# First implement the naive softmax loss function with nested loops.\n",
    "# Open the file cs231n/classifiers/softmax.py and implement the\n",
    "# softmax_loss_naive function.\n",
    "\n",
    "from cs231n.classifiers.softmax import softmax_loss_naive\n",
    "import time\n",
    "\n",
    "# Generate a random softmax weight matrix and use it to compute the loss.\n",
    "W = np.random.randn(3073, 10) * 0.0001\n",
    "loss, grad = softmax_loss_naive(W, X_dev, y_dev, 0.0)\n",
    "\n",
    "# As a rough sanity check, our loss should be something close to -log(0.1).\n",
    "print('loss: %f' % loss)\n",
    "print('sanity check: %f' % (-np.log(0.1)))"
   ]
  },
  {
   "cell_type": "markdown",
   "metadata": {},
   "source": [
    "## Inline Question 1:\n",
    "Why do we expect our loss to be close to -log(0.1)? Explain briefly.**\n",
    "\n",
    "**Your answer:** *Fill this in*\n"
   ]
  },
  {
   "cell_type": "code",
   "execution_count": 33,
   "metadata": {
    "collapsed": false
   },
   "outputs": [
    {
     "name": "stdout",
     "output_type": "stream",
     "text": [
      "numerical: 0.458507 analytic: 0.458507, relative error: 6.514514e-08\n",
      "numerical: 1.525488 analytic: 1.525488, relative error: 2.941585e-08\n",
      "numerical: -1.376284 analytic: -1.376284, relative error: 3.524485e-08\n",
      "numerical: -0.303949 analytic: -0.303949, relative error: 1.835109e-07\n",
      "numerical: -0.937506 analytic: -0.937506, relative error: 1.616657e-08\n",
      "numerical: 1.358422 analytic: 1.358422, relative error: 2.574465e-08\n",
      "numerical: 2.323091 analytic: 2.323091, relative error: 4.758263e-09\n",
      "numerical: -0.461640 analytic: -0.461641, relative error: 1.339400e-07\n",
      "numerical: 1.634613 analytic: 1.634613, relative error: 1.202469e-08\n",
      "numerical: 1.220974 analytic: 1.220974, relative error: 3.119197e-08\n",
      "numerical: -0.760241 analytic: -0.760241, relative error: 3.508569e-08\n",
      "numerical: 0.348603 analytic: 0.348603, relative error: 1.738319e-07\n",
      "numerical: -3.555364 analytic: -3.555364, relative error: 6.897234e-09\n",
      "numerical: 1.484702 analytic: 1.484702, relative error: 4.544158e-08\n",
      "numerical: -0.323624 analytic: -0.323624, relative error: 2.677831e-07\n",
      "numerical: 0.829873 analytic: 0.829873, relative error: 7.362379e-08\n",
      "numerical: 1.034493 analytic: 1.034493, relative error: 8.169835e-09\n",
      "numerical: 0.705311 analytic: 0.705311, relative error: 2.218977e-08\n",
      "numerical: -2.642369 analytic: -2.642369, relative error: 2.779118e-08\n",
      "numerical: -5.002926 analytic: -5.002926, relative error: 1.205985e-08\n"
     ]
    }
   ],
   "source": [
    "# Complete the implementation of softmax_loss_naive and implement a (naive)\n",
    "# version of the gradient that uses nested loops.\n",
    "loss, grad = softmax_loss_naive(W, X_dev, y_dev, 0.0)\n",
    "\n",
    "# As we did for the SVM, use numeric gradient checking as a debugging tool.\n",
    "# The numeric gradient should be close to the analytic gradient.\n",
    "from cs231n.gradient_check import grad_check_sparse\n",
    "f = lambda w: softmax_loss_naive(w, X_dev, y_dev, 0.0)[0]\n",
    "grad_numerical = grad_check_sparse(f, W, grad, 10)\n",
    "\n",
    "# similar to SVM case, do another gradient check with regularization\n",
    "loss, grad = softmax_loss_naive(W, X_dev, y_dev, 5e1)\n",
    "f = lambda w: softmax_loss_naive(w, X_dev, y_dev, 5e1)[0]\n",
    "grad_numerical = grad_check_sparse(f, W, grad, 10)"
   ]
  },
  {
   "cell_type": "code",
   "execution_count": 34,
   "metadata": {
    "collapsed": false
   },
   "outputs": [
    {
     "name": "stdout",
     "output_type": "stream",
     "text": [
      "naive loss: 2.304610e+00 computed in 0.093000s\n",
      "vectorized loss: 2.304610e+00 computed in 0.121000s\n",
      "Loss difference: 0.000000\n",
      "Gradient difference: 0.000000\n"
     ]
    }
   ],
   "source": [
    "# Now that we have a naive implementation of the softmax loss function and its gradient,\n",
    "# implement a vectorized version in softmax_loss_vectorized.\n",
    "# The two versions should compute the same results, but the vectorized version should be\n",
    "# much faster.\n",
    "tic = time.time()\n",
    "loss_naive, grad_naive = softmax_loss_naive(W, X_dev, y_dev, 0.000005)\n",
    "toc = time.time()\n",
    "print('naive loss: %e computed in %fs' % (loss_naive, toc - tic))\n",
    "\n",
    "from cs231n.classifiers.softmax import softmax_loss_vectorized\n",
    "tic = time.time()\n",
    "loss_vectorized, grad_vectorized = softmax_loss_vectorized(W, X_dev, y_dev, 0.000005)\n",
    "toc = time.time()\n",
    "print('vectorized loss: %e computed in %fs' % (loss_vectorized, toc - tic))\n",
    "\n",
    "# As we did for the SVM, we use the Frobenius norm to compare the two versions\n",
    "# of the gradient.\n",
    "grad_difference = np.linalg.norm(grad_naive - grad_vectorized, ord='fro')\n",
    "print('Loss difference: %f' % np.abs(loss_naive - loss_vectorized))\n",
    "print('Gradient difference: %f' % grad_difference)"
   ]
  },
  {
   "cell_type": "code",
   "execution_count": 36,
   "metadata": {
    "collapsed": false
   },
   "outputs": [
    {
     "name": "stdout",
     "output_type": "stream",
     "text": [
      "lr 1.000000e-07 reg 2.500000e+04 train accuracy: 0.247653 val accuracy: 0.287000\n",
      "lr 1.000000e-07 reg 2.525000e+04 train accuracy: 0.298776 val accuracy: 0.353000\n",
      "lr 1.000000e-07 reg 2.550000e+04 train accuracy: 0.341469 val accuracy: 0.430000\n",
      "lr 1.000000e-07 reg 2.575000e+04 train accuracy: 0.360714 val accuracy: 0.465000\n",
      "lr 1.000000e-07 reg 2.600000e+04 train accuracy: 0.367551 val accuracy: 0.487000\n",
      "lr 1.000000e-07 reg 2.625000e+04 train accuracy: 0.365592 val accuracy: 0.478000\n",
      "lr 1.000000e-07 reg 2.650000e+04 train accuracy: 0.366735 val accuracy: 0.472000\n",
      "lr 1.000000e-07 reg 2.675000e+04 train accuracy: 0.366816 val accuracy: 0.481000\n",
      "lr 1.000000e-07 reg 2.700000e+04 train accuracy: 0.370796 val accuracy: 0.488000\n",
      "lr 1.000000e-07 reg 2.725000e+04 train accuracy: 0.368653 val accuracy: 0.490000\n",
      "lr 1.000000e-07 reg 2.750000e+04 train accuracy: 0.371592 val accuracy: 0.488000\n",
      "lr 1.000000e-07 reg 2.775000e+04 train accuracy: 0.371714 val accuracy: 0.486000\n",
      "lr 1.000000e-07 reg 2.800000e+04 train accuracy: 0.370449 val accuracy: 0.489000\n",
      "lr 1.000000e-07 reg 2.825000e+04 train accuracy: 0.366796 val accuracy: 0.477000\n",
      "lr 1.000000e-07 reg 2.850000e+04 train accuracy: 0.368020 val accuracy: 0.480000\n",
      "lr 1.000000e-07 reg 2.875000e+04 train accuracy: 0.369551 val accuracy: 0.486000\n",
      "lr 1.000000e-07 reg 2.900000e+04 train accuracy: 0.366306 val accuracy: 0.484000\n",
      "lr 1.000000e-07 reg 2.925000e+04 train accuracy: 0.368122 val accuracy: 0.476000\n",
      "lr 1.000000e-07 reg 2.950000e+04 train accuracy: 0.370939 val accuracy: 0.488000\n",
      "lr 1.000000e-07 reg 2.975000e+04 train accuracy: 0.371163 val accuracy: 0.490000\n",
      "lr 1.000000e-07 reg 3.000000e+04 train accuracy: 0.365286 val accuracy: 0.475000\n",
      "lr 1.000000e-07 reg 3.025000e+04 train accuracy: 0.371082 val accuracy: 0.483000\n",
      "lr 1.000000e-07 reg 3.050000e+04 train accuracy: 0.368878 val accuracy: 0.470000\n",
      "lr 1.000000e-07 reg 3.075000e+04 train accuracy: 0.366510 val accuracy: 0.471000\n",
      "lr 1.000000e-07 reg 3.100000e+04 train accuracy: 0.366673 val accuracy: 0.461000\n",
      "lr 1.000000e-07 reg 3.125000e+04 train accuracy: 0.368959 val accuracy: 0.472000\n",
      "lr 1.000000e-07 reg 3.150000e+04 train accuracy: 0.365041 val accuracy: 0.477000\n",
      "lr 1.000000e-07 reg 3.175000e+04 train accuracy: 0.367143 val accuracy: 0.475000\n",
      "lr 1.000000e-07 reg 3.200000e+04 train accuracy: 0.366918 val accuracy: 0.472000\n",
      "lr 1.000000e-07 reg 3.225000e+04 train accuracy: 0.366714 val accuracy: 0.470000\n",
      "lr 1.000000e-07 reg 3.250000e+04 train accuracy: 0.366755 val accuracy: 0.475000\n",
      "lr 1.000000e-07 reg 3.275000e+04 train accuracy: 0.366776 val accuracy: 0.473000\n",
      "lr 1.000000e-07 reg 3.300000e+04 train accuracy: 0.370367 val accuracy: 0.474000\n",
      "lr 1.000000e-07 reg 3.325000e+04 train accuracy: 0.370449 val accuracy: 0.473000\n",
      "lr 1.000000e-07 reg 3.350000e+04 train accuracy: 0.374184 val accuracy: 0.476000\n",
      "lr 1.000000e-07 reg 3.375000e+04 train accuracy: 0.366102 val accuracy: 0.461000\n",
      "lr 1.000000e-07 reg 3.400000e+04 train accuracy: 0.363878 val accuracy: 0.459000\n",
      "lr 1.000000e-07 reg 3.425000e+04 train accuracy: 0.364571 val accuracy: 0.467000\n",
      "lr 1.000000e-07 reg 3.450000e+04 train accuracy: 0.367816 val accuracy: 0.466000\n",
      "lr 1.000000e-07 reg 3.475000e+04 train accuracy: 0.362408 val accuracy: 0.456000\n",
      "lr 1.000000e-07 reg 3.500000e+04 train accuracy: 0.367184 val accuracy: 0.472000\n",
      "lr 1.000000e-07 reg 3.525000e+04 train accuracy: 0.364469 val accuracy: 0.469000\n",
      "lr 1.000000e-07 reg 3.550000e+04 train accuracy: 0.367224 val accuracy: 0.460000\n",
      "lr 1.000000e-07 reg 3.575000e+04 train accuracy: 0.365306 val accuracy: 0.462000\n",
      "lr 1.000000e-07 reg 3.600000e+04 train accuracy: 0.362531 val accuracy: 0.457000\n",
      "lr 1.000000e-07 reg 3.625000e+04 train accuracy: 0.365898 val accuracy: 0.456000\n",
      "lr 1.000000e-07 reg 3.650000e+04 train accuracy: 0.366980 val accuracy: 0.449000\n",
      "lr 1.000000e-07 reg 3.675000e+04 train accuracy: 0.366531 val accuracy: 0.462000\n",
      "lr 1.000000e-07 reg 3.700000e+04 train accuracy: 0.366245 val accuracy: 0.459000\n",
      "lr 1.000000e-07 reg 3.725000e+04 train accuracy: 0.367184 val accuracy: 0.451000\n",
      "lr 1.000000e-07 reg 3.750000e+04 train accuracy: 0.367612 val accuracy: 0.465000\n",
      "lr 1.000000e-07 reg 3.775000e+04 train accuracy: 0.366490 val accuracy: 0.448000\n",
      "lr 1.000000e-07 reg 3.800000e+04 train accuracy: 0.366469 val accuracy: 0.472000\n",
      "lr 1.000000e-07 reg 3.825000e+04 train accuracy: 0.365959 val accuracy: 0.459000\n",
      "lr 1.000000e-07 reg 3.850000e+04 train accuracy: 0.359510 val accuracy: 0.443000\n",
      "lr 1.000000e-07 reg 3.875000e+04 train accuracy: 0.365327 val accuracy: 0.455000\n",
      "lr 1.000000e-07 reg 3.900000e+04 train accuracy: 0.366449 val accuracy: 0.456000\n",
      "lr 1.000000e-07 reg 3.925000e+04 train accuracy: 0.366000 val accuracy: 0.447000\n",
      "lr 1.000000e-07 reg 3.950000e+04 train accuracy: 0.366878 val accuracy: 0.453000\n",
      "lr 1.000000e-07 reg 3.975000e+04 train accuracy: 0.364531 val accuracy: 0.459000\n",
      "lr 1.000000e-07 reg 4.000000e+04 train accuracy: 0.362388 val accuracy: 0.456000\n",
      "lr 1.000000e-07 reg 4.025000e+04 train accuracy: 0.367163 val accuracy: 0.455000\n",
      "lr 1.000000e-07 reg 4.050000e+04 train accuracy: 0.365286 val accuracy: 0.440000\n",
      "lr 1.000000e-07 reg 4.075000e+04 train accuracy: 0.368184 val accuracy: 0.457000\n",
      "lr 1.000000e-07 reg 4.100000e+04 train accuracy: 0.370286 val accuracy: 0.464000\n",
      "lr 1.000000e-07 reg 4.125000e+04 train accuracy: 0.366898 val accuracy: 0.475000\n",
      "lr 1.000000e-07 reg 4.150000e+04 train accuracy: 0.362612 val accuracy: 0.453000\n",
      "lr 1.000000e-07 reg 4.175000e+04 train accuracy: 0.364612 val accuracy: 0.456000\n",
      "lr 1.000000e-07 reg 4.200000e+04 train accuracy: 0.365551 val accuracy: 0.454000\n",
      "lr 1.000000e-07 reg 4.225000e+04 train accuracy: 0.363633 val accuracy: 0.446000\n",
      "lr 1.000000e-07 reg 4.250000e+04 train accuracy: 0.369898 val accuracy: 0.454000\n",
      "lr 1.000000e-07 reg 4.275000e+04 train accuracy: 0.365204 val accuracy: 0.450000\n",
      "lr 1.000000e-07 reg 4.300000e+04 train accuracy: 0.365061 val accuracy: 0.453000\n",
      "lr 1.000000e-07 reg 4.325000e+04 train accuracy: 0.366408 val accuracy: 0.450000\n",
      "lr 1.000000e-07 reg 4.350000e+04 train accuracy: 0.366449 val accuracy: 0.447000\n",
      "lr 1.000000e-07 reg 4.375000e+04 train accuracy: 0.363633 val accuracy: 0.439000\n",
      "lr 1.000000e-07 reg 4.400000e+04 train accuracy: 0.364286 val accuracy: 0.431000\n",
      "lr 1.000000e-07 reg 4.425000e+04 train accuracy: 0.367776 val accuracy: 0.455000\n",
      "lr 1.000000e-07 reg 4.450000e+04 train accuracy: 0.365020 val accuracy: 0.446000\n",
      "lr 1.000000e-07 reg 4.475000e+04 train accuracy: 0.356571 val accuracy: 0.427000\n",
      "lr 1.000000e-07 reg 4.500000e+04 train accuracy: 0.362143 val accuracy: 0.430000\n",
      "lr 1.000000e-07 reg 4.525000e+04 train accuracy: 0.363429 val accuracy: 0.434000\n",
      "lr 1.000000e-07 reg 4.550000e+04 train accuracy: 0.361959 val accuracy: 0.452000\n",
      "lr 1.000000e-07 reg 4.575000e+04 train accuracy: 0.358163 val accuracy: 0.433000\n",
      "lr 1.000000e-07 reg 4.600000e+04 train accuracy: 0.366653 val accuracy: 0.448000\n",
      "lr 1.000000e-07 reg 4.625000e+04 train accuracy: 0.369020 val accuracy: 0.439000\n",
      "lr 1.000000e-07 reg 4.650000e+04 train accuracy: 0.361980 val accuracy: 0.434000\n",
      "lr 1.000000e-07 reg 4.675000e+04 train accuracy: 0.366041 val accuracy: 0.441000\n",
      "lr 1.000000e-07 reg 4.700000e+04 train accuracy: 0.368551 val accuracy: 0.450000\n",
      "lr 1.000000e-07 reg 4.725000e+04 train accuracy: 0.364571 val accuracy: 0.453000\n",
      "lr 1.000000e-07 reg 4.750000e+04 train accuracy: 0.365082 val accuracy: 0.453000\n",
      "lr 1.000000e-07 reg 4.775000e+04 train accuracy: 0.365571 val accuracy: 0.444000\n",
      "lr 1.000000e-07 reg 4.800000e+04 train accuracy: 0.365224 val accuracy: 0.443000\n",
      "lr 1.000000e-07 reg 4.825000e+04 train accuracy: 0.367184 val accuracy: 0.434000\n",
      "lr 1.000000e-07 reg 4.850000e+04 train accuracy: 0.368612 val accuracy: 0.440000\n",
      "lr 1.000000e-07 reg 4.875000e+04 train accuracy: 0.364776 val accuracy: 0.448000\n",
      "lr 1.000000e-07 reg 4.900000e+04 train accuracy: 0.360082 val accuracy: 0.443000\n",
      "lr 1.000000e-07 reg 4.925000e+04 train accuracy: 0.365102 val accuracy: 0.428000\n",
      "lr 1.000000e-07 reg 4.950000e+04 train accuracy: 0.372082 val accuracy: 0.446000\n",
      "lr 1.000000e-07 reg 4.975000e+04 train accuracy: 0.361143 val accuracy: 0.423000\n",
      "best validation accuracy achieved during cross-validation: 0.490000\n"
     ]
    }
   ],
   "source": [
    "# Use the validation set to tune hyperparameters (regularization strength and\n",
    "# learning rate). You should experiment with different ranges for the learning\n",
    "# rates and regularization strengths; if you are careful you should be able to\n",
    "# get a classification accuracy of over 0.35 on the validation set.\n",
    "from cs231n.classifiers import Softmax, LinearSVM\n",
    "results = {}\n",
    "best_val = -1\n",
    "best_softmax = None\n",
    "learning_rates = [1e-7, 5e-7]\n",
    "regularization_strengths = [2.5e4, 5e4]\n",
    "\n",
    "################################################################################\n",
    "# TODO:                                                                        #\n",
    "# Use the validation set to set the learning rate and regularization strength. #\n",
    "# This should be identical to the validation that you did for the SVM; save    #\n",
    "# the best trained softmax classifer in best_softmax.                          #\n",
    "################################################################################\n",
    "lr = learning_rates[0]\n",
    "reg = regularization_strengths[0]\n",
    "\n",
    "lr_increment = (learning_rates[1]-learning_rates[0])/10\n",
    "reg_increment = (regularization_strengths[1]-regularization_strengths[0])/100\n",
    "\n",
    "softmax = Softmax()\n",
    "while lr < learning_rates[1]:\n",
    "    while reg < regularization_strengths[1]:\n",
    "        loss_hist_val = softmax.train(X_val, y_val, lr, reg,\n",
    "                      num_iters=100, verbose=False)\n",
    "        loss_hist_train = softmax.train(X_train, y_train, lr, reg,\n",
    "                      num_iters=100, verbose=False)\n",
    "        y_val_pred = softmax.predict(X_val)\n",
    "        y_train_pred = softmax.predict(X_train)\n",
    "        val_accuracy = np.mean(y_val_pred==y_val)\n",
    "        train_accuracy = np.mean(y_train_pred==y_train)\n",
    "        results[(lr,reg)] = (train_accuracy,val_accuracy)\n",
    "        if val_accuracy > best_val:\n",
    "            best_val = val_accuracy\n",
    "            best_softmax = softmax\n",
    "        reg += reg_increment\n",
    "    lr += lr_increment\n",
    "################################################################################\n",
    "#                              END OF YOUR CODE                                #\n",
    "################################################################################\n",
    "    \n",
    "# Print out results.\n",
    "for lr, reg in sorted(results):\n",
    "    train_accuracy, val_accuracy = results[(lr, reg)]\n",
    "    print('lr %e reg %e train accuracy: %f val accuracy: %f' % (\n",
    "                lr, reg, train_accuracy, val_accuracy))\n",
    "    \n",
    "print('best validation accuracy achieved during cross-validation: %f' % best_val)"
   ]
  },
  {
   "cell_type": "code",
   "execution_count": 28,
   "metadata": {
    "collapsed": false
   },
   "outputs": [
    {
     "name": "stdout",
     "output_type": "stream",
     "text": [
      "softmax on raw pixels final test set accuracy: 0.335000\n"
     ]
    }
   ],
   "source": [
    "# evaluate on test set\n",
    "# Evaluate the best softmax on test set\n",
    "y_test_pred = best_softmax.predict(X_test)\n",
    "test_accuracy = np.mean(y_test == y_test_pred)\n",
    "print('softmax on raw pixels final test set accuracy: %f' % (test_accuracy, ))"
   ]
  },
  {
   "cell_type": "code",
   "execution_count": 29,
   "metadata": {
    "collapsed": false
   },
   "outputs": [
    {
     "data": {
      "image/png": "[encoded data removed]",
      "text/plain": [
       "<matplotlib.figure.Figure at 0xb3b1f60>"
      ]
     },
     "metadata": {},
     "output_type": "display_data"
    }
   ],
   "source": [
    "# Visualize the learned weights for each class\n",
    "w = best_softmax.W[:-1,:] # strip out the bias\n",
    "w = w.reshape(32, 32, 3, 10)\n",
    "\n",
    "w_min, w_max = np.min(w), np.max(w)\n",
    "\n",
    "classes = ['plane', 'car', 'bird', 'cat', 'deer', 'dog', 'frog', 'horse', 'ship', 'truck']\n",
    "for i in range(10):\n",
    "    plt.subplot(2, 5, i + 1)\n",
    "    \n",
    "    # Rescale the weights to be between 0 and 255\n",
    "    wimg = 255.0 * (w[:, :, :, i].squeeze() - w_min) / (w_max - w_min)\n",
    "    plt.imshow(wimg.astype('uint8'))\n",
    "    plt.axis('off')\n",
    "    plt.title(classes[i])"
   ]
  },
  {
   "cell_type": "code",
   "execution_count": null,
   "metadata": {
    "collapsed": true
   },
   "outputs": [],
   "source": []
  }
 ],
 "metadata": {
  "kernelspec": {
   "display_name": "Python 2",
   "language": "python",
   "name": "python2"
  },
  "language_info": {
   "codemirror_mode": {
    "name": "ipython",
    "version": 2
   },
   "file_extension": ".py",
   "mimetype": "text/x-python",
   "name": "python",
   "nbconvert_exporter": "python",
   "pygments_lexer": "ipython2",
   "version": "2.7.10"
  }
 },
 "nbformat": 4,
 "nbformat_minor": 0
}
